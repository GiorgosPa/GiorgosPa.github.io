{
 "cells": [
  {
   "cell_type": "code",
   "execution_count": 1,
   "metadata": {
    "collapsed": false
   },
   "outputs": [],
   "source": [
    "import csv\n",
    "from collections import Counter\n",
    "import numpy as np\n",
    "\n",
    "file_path = '../../../NYPD_Motor_Vehicle_Collisions.csv'\n",
    "#def read_data_file(file_path):\n",
    "infile = open(file_path)    # open the file for reading\n",
    "reader = csv.DictReader(infile, delimiter=',', skipinitialspace=True)\n",
    "intersection_related_data = {}\n",
    "data = []\n",
    "for i,line in enumerate(reader):\n",
    "    # assign the various fields in the line to variables\n",
    "    accident = {}\n",
    "    accident[\"date\"] = line['DATE']\n",
    "    accident[\"time\"] = line['TIME']\n",
    "    accident[\"lat\"] = eval(line['LATITUDE']) if line['LATITUDE'] != '' else None \n",
    "    accident[\"lon\"] = eval(line['LONGITUDE']) if line['LONGITUDE'] != '' else None\n",
    "    accident[\"killed\"] = line['NUMBER OF PERSONS KILLED']\n",
    "    accident[\"injured\"] = line['NUMBER OF PERSONS INJURED']\n",
    "    accident[\"borough\"] = line['BOROUGH']\n",
    "    street = line['ON STREET NAME']\n",
    "    cross_street = line['CROSS STREET NAME']\n",
    "    if street and cross_street:\n",
    "        if street >= cross_street:\n",
    "            accident[\"intersection\"] = street + \" and \" + cross_street\n",
    "        else:\n",
    "            accident[\"intersection\"] = cross_street + \" and \" + street\n",
    "        if accident[\"intersection\"] in intersection_related_data:\n",
    "            intersection_related_data[accident[\"intersection\"]][\"killed\"] += int(accident[\"killed\"])\n",
    "            intersection_related_data[accident[\"intersection\"]][\"injured\"] += int(accident[\"injured\"])\n",
    "        else:\n",
    "            intersection_related_data[accident[\"intersection\"]] = {\n",
    "                \"borough\": accident[\"borough\"],\n",
    "                \"killed\": int(accident[\"killed\"]),\n",
    "                \"injured\": int(accident[\"injured\"])\n",
    "            }\n",
    "        \n",
    "    else:\n",
    "        accident[\"intersection\"] = \"\"\n",
    "    data.append(accident)\n"
   ]
  },
  {
   "cell_type": "code",
   "execution_count": 3,
   "metadata": {
    "collapsed": false
   },
   "outputs": [
    {
     "name": "stdout",
     "output_type": "stream",
     "text": [
      "{'injured': '0', 'lon': -73.9387929, 'lat': 40.8082795, 'time': '0:45', 'date': '03/14/2016', 'killed': '0'}\n"
     ]
    }
   ],
   "source": [
    "print data[0]"
   ]
  },
  {
   "cell_type": "code",
   "execution_count": 4,
   "metadata": {
    "collapsed": false
   },
   "outputs": [
    {
     "data": {
      "image/png": "[encoded data removed]",
      "text/plain": [
       "<matplotlib.figure.Figure at 0x44aaae48>"
      ]
     },
     "metadata": {},
     "output_type": "display_data"
    }
   ],
   "source": [
    "year_cnt = [x['date'].split('/')[-1] for x in data ]\n",
    "\n",
    "years = Counter(year_cnt)\n",
    "years = sorted(years.items())\n",
    "\n",
    "import matplotlib.pyplot as plt\n",
    "%matplotlib inline\n",
    "\n",
    "values = [a[1] for a in years]\n",
    "labels = [a[0] for a in years]\n",
    "\n",
    "indexes = np.arange(len(labels))\n",
    "width = 0.5\n",
    "plt.gcf().set_size_inches(20, 5)\n",
    "plt.bar(indexes, values, width,color='gray')\n",
    "plt.xticks(indexes + width * 0.5, labels)\n",
    "plt.title('Accidents per year')\n",
    "plt.show()"
   ]
  },
  {
   "cell_type": "code",
   "execution_count": 5,
   "metadata": {
    "collapsed": false
   },
   "outputs": [],
   "source": [
    "import geoplotlib\n",
    "from geoplotlib.utils import BoundingBox\n",
    "#                                   \n",
    "geoplotlib.set_bbox(BoundingBox(north=37.8, west=-70.5, south=37.7, east=-70.3))\n",
    "                                #40.4774, west=-74.2589, south=40.9176, east=-73.7004\n",
    "\n",
    "#geoplotlib.show()"
   ]
  },
  {
   "cell_type": "markdown",
   "metadata": {},
   "source": [
    "The data is 142MB in size, has 28 columns and 769054 rows."
   ]
  },
  {
   "cell_type": "code",
   "execution_count": 6,
   "metadata": {
    "collapsed": false
   },
   "outputs": [],
   "source": [
    "from sklearn.cluster import KMeans \n",
    "from scipy.cluster.vq import vq, whiten\n",
    "\n",
    "Lat = [x['lat'] for x in data]\n",
    "Lon = [x['lon'] for x in data]\n",
    "\n",
    "features = zip(Lon,Lat)\n",
    "features = filter(lambda x: x[0] is not None and x[1] is not None ,features)\n",
    "sqrd_err = []\n",
    "for k in range(2,10):\n",
    "    KM = KMeans(n_clusters=k, init='k-means++', n_init=10, max_iter=300,\n",
    "                            tol=0.0001, precompute_distances='auto', verbose=0, random_state=None,\n",
    "                            copy_x=True, n_jobs=1)\n",
    "    KM.fit(features)\n",
    "    sqrd_err.append(KM.inertia_)"
   ]
  },
  {
   "cell_type": "code",
   "execution_count": 7,
   "metadata": {
    "collapsed": false
   },
   "outputs": [
    {
     "name": "stdout",
     "output_type": "stream",
     "text": [
      "[5034.4700200987363, 3344.8537963769563, 2347.6535047108209, 1599.9943934579881, 1303.4117005141686, 1121.3905632713922, 961.10581208443034, 864.93600761341361]\n"
     ]
    },
    {
     "data": {
      "image/png": "[encoded data removed]",
      "text/plain": [
       "<matplotlib.figure.Figure at 0x459e9b00>"
      ]
     },
     "metadata": {},
     "output_type": "display_data"
    }
   ],
   "source": [
    "import matplotlib.pyplot as plt\n",
    "%matplotlib inline\n",
    "print sqrd_err\n",
    "plt.plot(range(2,10), sqrd_err)\n",
    "#plt.axis([2, 8, 0, 5])\n",
    "plt.show()"
   ]
  },
  {
   "cell_type": "markdown",
   "metadata": {},
   "source": [
    "4 seams to be the right amount of clusters"
   ]
  },
  {
   "cell_type": "code",
   "execution_count": 48,
   "metadata": {
    "collapsed": false
   },
   "outputs": [],
   "source": [
    "KM = [0]*3\n",
    "for i in range(0,3):\n",
    "    KM[i] = KMeans(n_clusters=i+3, init='k-means++', n_init=10, max_iter=300,\n",
    "                            tol=0.0001, precompute_distances='auto', verbose=0, random_state=None,\n",
    "                            copy_x=True, n_jobs=1)\n",
    "    KM[i].fit(features)"
   ]
  },
  {
   "cell_type": "code",
   "execution_count": 49,
   "metadata": {
    "collapsed": false
   },
   "outputs": [
    {
     "name": "stdout",
     "output_type": "stream",
     "text": [
      "40.4989488\n",
      "40.9128276\n",
      "-74.2545316\n",
      "-73.7005968\n"
     ]
    }
   ],
   "source": [
    "np_features = np.array(features)\n",
    "min_lat = np_features[:, 1].min()\n",
    "max_lat = np_features[:, 1].max()\n",
    "min_lon = np_features[:, 0].min()\n",
    "max_lon = np_features[:, 0].max()\n",
    "\n",
    "print min_lat\n",
    "print max_lat\n",
    "print min_lon\n",
    "print max_lon"
   ]
  },
  {
   "cell_type": "code",
   "execution_count": 50,
   "metadata": {
    "collapsed": false
   },
   "outputs": [
    {
     "name": "stdout",
     "output_type": "stream",
     "text": [
      "[[2 2 2 ..., 0 0 0]\n",
      " [2 2 2 ..., 0 0 0]\n",
      " [2 2 2 ..., 0 0 0]\n",
      " ..., \n",
      " [1 1 1 ..., 3 3 3]\n",
      " [1 1 1 ..., 3 3 3]\n",
      " [1 1 1 ..., 3 3 3]]\n"
     ]
    },
    {
     "data": {
      "image/png": "[encoded data removed]",
      "text/plain": [
       "<matplotlib.figure.Figure at 0x50019400>"
      ]
     },
     "metadata": {},
     "output_type": "display_data"
    }
   ],
   "source": [
    "ep = 0.01\n",
    "x_min, x_max = min_lon - ep, max_lon + ep\n",
    "y_min, y_max = min_lat - ep, max_lat + ep\n",
    "h=0.001\n",
    "xx, yy = np.meshgrid(np.arange(x_min, x_max, h), np.arange(y_min, y_max, h))\n",
    "Z = KM[1].predict(np.c_[xx.ravel(), yy.ravel()])\n",
    "\n",
    "# Put the result into a color plot\n",
    "Z = Z.reshape(xx.shape)\n",
    "\n",
    "print Z\n",
    "\n",
    "plt.figure(1)\n",
    "plt.clf()\n",
    "plt.imshow(Z, interpolation='nearest',\n",
    "           extent=(xx.min(), xx.max(), yy.min(), yy.max()),\n",
    "           cmap=plt.cm.Paired,\n",
    "           aspect='auto', origin='lower')\n",
    "\n",
    "plt.plot(np_features[:, 0], np_features[:, 1], 'k.', markersize=2)\n",
    "# Plot the centroids as a white X\n",
    "centroids = KM[1].cluster_centers_\n",
    "plt.scatter(centroids[:, 0], centroids[:, 1],\n",
    "            marker='x',  linewidths=2,\n",
    "            color='r', zorder=10)\n",
    "plt.title('K-means clustering on\\n'\n",
    "          'Centroids are marked with white cross')\n",
    "plt.xlim(x_min, x_max)\n",
    "plt.ylim(y_min, y_max)\n",
    "plt.show()"
   ]
  },
  {
   "cell_type": "code",
   "execution_count": 108,
   "metadata": {
    "collapsed": false
   },
   "outputs": [
    {
     "name": "stdout",
     "output_type": "stream",
     "text": [
      "0\n",
      "1\n",
      "2\n",
      "[[[40.794958486801917, -73.930114394000299, 252234], [40.709752880757257, -73.813943870898626, 153479], [40.655697164168977, -73.988055837529117, 242154]], [[40.711315555934611, -73.807925397197181, 142214], [40.717681400473268, -73.957319826480244, 284550], [40.607821968553786, -74.030458486322985, 96150], [40.835952943272588, -73.898893396615449, 124953]], [[40.74748418705277, -73.96518348505181, 202057], [40.713293129017259, -73.80713443970501, 140509], [40.648240563672537, -73.954220777743259, 165593], [40.589559637431378, -74.130342845340394, 31698], [40.842614469167252, -73.892912188699228, 108010]]]\n"
     ]
    }
   ],
   "source": [
    "accidentsCSV = []\n",
    "centersCSV = []\n",
    "clusterPerPoint = []\n",
    "for i in range(0,3):\n",
    "    clusterPerPoint.append(KM[i].predict(features))\n",
    "    print i\n",
    "    cntAccXclust = Counter(clusterPerPoint[i])\n",
    "    centersCSV.append([[KM[i].cluster_centers_[d[0]][1],KM[i].cluster_centers_[d[0]][0],d[1]] for d in cntAccXclust.items()])\n",
    "    \n",
    "print centersCSV\n",
    "\n",
    "allAccidentsCSV = [[clusterPerPoint[0][j],clusterPerPoint[1][j],clusterPerPoint[2][j],f[1],f[0]] for j,f in enumerate(features)]"
   ]
  },
  {
   "cell_type": "code",
   "execution_count": 115,
   "metadata": {
    "collapsed": false
   },
   "outputs": [],
   "source": [
    "import csv\n",
    "\n",
    "for i in range(0,3):\n",
    "\n",
    "    with open(\"centers\"+str(3+i)+\".csv\", \"wb\") as f:\n",
    "        writer = csv.writer(f)\n",
    "        writer.writerows([[\"Latitude\",\"Longitude\",\"count\"]])\n",
    "        writer.writerows(centersCSV[i])\n",
    "with open(\"allcenters.csv\", \"wb\") as f:\n",
    "    writer = csv.writer(f)\n",
    "    writer.writerows([[\"cluster3\",\"cluster4\",\"cluster5\",\"Latitude\",\"Longitude\"]])\n",
    "    sample = random.sample(allAccidentsCSV, 10000)\n",
    "    writer.writerows(sample)"
   ]
  }
 ],
 "metadata": {
  "kernelspec": {
   "display_name": "Python 2",
   "language": "python",
   "name": "python2"
  },
  "language_info": {
   "codemirror_mode": {
    "name": "ipython",
    "version": 2
   },
   "file_extension": ".py",
   "mimetype": "text/x-python",
   "name": "python",
   "nbconvert_exporter": "python",
   "pygments_lexer": "ipython2",
   "version": "2.7.10"
  }
 },
 "nbformat": 4,
 "nbformat_minor": 0
}
