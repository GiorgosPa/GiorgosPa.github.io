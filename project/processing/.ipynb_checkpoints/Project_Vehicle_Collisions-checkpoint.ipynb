{
 "cells": [
  {
   "cell_type": "code",
   "execution_count": 2,
   "metadata": {
    "collapsed": false
   },
   "outputs": [],
   "source": [
    "import csv\n",
    "from collections import Counter\n",
    "\n",
    "\n",
    "file_path = 'NYPD_Motor_Vehicle_Collisions.csv'\n",
    "#def read_data_file(file_path):\n",
    "infile = open(file_path)    # open the file for reading\n",
    "reader = csv.DictReader(infile, delimiter=',', skipinitialspace=True)\n",
    "\n",
    "data = []\n",
    "for i,line in enumerate(reader):\n",
    "    # assign the various fields in the line to variables\n",
    "    accident = {}\n",
    "    accident[\"date\"] = line['DATE']\n",
    "    accident[\"time\"] = line['TIME']\n",
    "    accident[\"lat\"] = line['LATITUDE']\n",
    "    accident[\"lon\"] = line['LONGITUDE']\n",
    "    accident[\"killed\"] = line['NUMBER OF PERSONS KILLED']\n",
    "    accident[\"injured\"] = line['NUMBER OF PERSONS INJURED']\n",
    "    data.append(accident)\n"
   ]
  },
  {
   "cell_type": "code",
   "execution_count": 3,
   "metadata": {
    "collapsed": false
   },
   "outputs": [
    {
     "name": "stdout",
     "output_type": "stream",
     "text": [
      "{'injured': '0', 'lon': '-73.9387929', 'lat': '40.8082795', 'time': '0:45', 'date': '03/14/2016', 'killed': '0'}\n"
     ]
    }
   ],
   "source": [
    "print data[0]"
   ]
  },
  {
   "cell_type": "code",
   "execution_count": null,
   "metadata": {
    "collapsed": true
   },
   "outputs": [],
   "source": [
    "import matplotlib.pyplot as plt\n",
    "%matplotlib inline\n",
    "for k,arr in hist.iteritems():\n",
    "    print k\n",
    "    labels, values = zip(*Counter(arr).items())\n",
    "    indexes = np.arange(len(labels))\n",
    "    width = 1\n",
    "    plt.gcf().set_size_inches(20, 5)\n",
    "    plt.bar(indexes, values, width)\n",
    "    plt.xticks(indexes + width * 0.5, labels,rotation=90)\n",
    "    plt.title(k)\n",
    "    plt.show()"
   ]
  },
  {
   "cell_type": "markdown",
   "metadata": {},
   "source": [
    "The data is 142MB in size, has 28 columns and 769054 rows."
   ]
  }
 ],
 "metadata": {
  "kernelspec": {
   "display_name": "Python 2",
   "language": "python",
   "name": "python2"
  },
  "language_info": {
   "codemirror_mode": {
    "name": "ipython",
    "version": 2
   },
   "file_extension": ".py",
   "mimetype": "text/x-python",
   "name": "python",
   "nbconvert_exporter": "python",
   "pygments_lexer": "ipython2",
   "version": "2.7.10"
  }
 },
 "nbformat": 4,
 "nbformat_minor": 0
}
